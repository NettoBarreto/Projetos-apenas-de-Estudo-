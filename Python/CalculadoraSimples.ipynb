{
 "cells": [
  {
   "cell_type": "markdown",
   "metadata": {},
   "source": [
    "# 1º Pedir numeros"
   ]
  },
  {
   "cell_type": "code",
   "execution_count": 24,
   "metadata": {},
   "outputs": [
    {
     "name": "stdout",
     "output_type": "stream",
     "text": [
      "Bem vindo a calculadora! você pode usar numeros com casas decimais para (somar, subtrair, multiplicar e dividir)\n"
     ]
    }
   ],
   "source": [
    "print(\"Bem vindo a calculadora! você pode usar numeros com casas decimais para (somar, subtrair, multiplicar e dividir)\")\n",
    "\n",
    "num1 = input(\"Me diga o primeiro numero:\")\n",
    "escolha = input(\"Qual operação voce deseja? \\n (+)Soma \\n (-)Subtração \\n (*)Multiplicação \\n (/)Divisão\")\n",
    "num2 = input(\"Me diga o Segundo numero:\")\n",
    "\n",
    "num1i = int(num1)\n",
    "num2i = int(num2)"
   ]
  },
  {
   "cell_type": "markdown",
   "metadata": {},
   "source": [
    "# 2º realizar Operação e exibir resultado"
   ]
  },
  {
   "cell_type": "code",
   "execution_count": 25,
   "metadata": {},
   "outputs": [
    {
     "name": "stdout",
     "output_type": "stream",
     "text": [
      "3 * 5 = 15\n"
     ]
    }
   ],
   "source": [
    "if escolha == \"+\":\n",
    "    resultado = num1i + num2i\n",
    "if escolha == \"-\":\n",
    "    resultado = num1i - num2i\n",
    "if escolha == \"*\":\n",
    "    resultado = num1i * num2i\n",
    "if escolha == \"/\":\n",
    "    resultado = num1i / num2i\n",
    "\n",
    "resultadoS = str(resultado)\n",
    "\n",
    "print(str(num1 + \" \"  + escolha + \" \"  + num2 + \" = \" + resultadoS))"
   ]
  }
 ],
 "metadata": {
  "kernelspec": {
   "display_name": "Python 3",
   "language": "python",
   "name": "python3"
  },
  "language_info": {
   "codemirror_mode": {
    "name": "ipython",
    "version": 3
   },
   "file_extension": ".py",
   "mimetype": "text/x-python",
   "name": "python",
   "nbconvert_exporter": "python",
   "pygments_lexer": "ipython3",
   "version": "3.12.5"
  }
 },
 "nbformat": 4,
 "nbformat_minor": 2
}
