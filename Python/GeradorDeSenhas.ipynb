{
 "cells": [
  {
   "cell_type": "markdown",
   "metadata": {},
   "source": [
    "# 1º Importar Bibliotecas"
   ]
  },
  {
   "cell_type": "code",
   "execution_count": 4,
   "metadata": {},
   "outputs": [],
   "source": [
    "import random\n",
    "import string"
   ]
  },
  {
   "cell_type": "markdown",
   "metadata": {},
   "source": [
    "# 2º Perguntar e gerar senha\n"
   ]
  },
  {
   "cell_type": "code",
   "execution_count": 8,
   "metadata": {},
   "outputs": [
    {
     "name": "stdout",
     "output_type": "stream",
     "text": [
      "Bem vindo ao gerador de senhas!\n",
      "Sua senha é: s}v&Mscy<V`EgMAH/Zyt{<)Sg/o$L*qAuvEjxKA-\n"
     ]
    }
   ],
   "source": [
    "print(\"Bem vindo ao gerador de senhas!\")\n",
    "\n",
    "tamanho = int(input(\"Quantos caractates você quer na senha?\"))\n",
    "\n",
    "caracteres = string.ascii_letters + string.ascii_lowercase + string.ascii_uppercase + string.digits + string.punctuation\n",
    "\n",
    "senha = ''.join(str(random.choice(caracteres)) for _ in range (tamanho))\n",
    "\n",
    "print(\"Sua senha é: \"  + senha)\n",
    "\n"
   ]
  }
 ],
 "metadata": {
  "kernelspec": {
   "display_name": "Python 3",
   "language": "python",
   "name": "python3"
  },
  "language_info": {
   "codemirror_mode": {
    "name": "ipython",
    "version": 3
   },
   "file_extension": ".py",
   "mimetype": "text/x-python",
   "name": "python",
   "nbconvert_exporter": "python",
   "pygments_lexer": "ipython3",
   "version": "3.12.5"
  }
 },
 "nbformat": 4,
 "nbformat_minor": 2
}
